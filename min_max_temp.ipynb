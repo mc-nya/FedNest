{
 "cells": [
  {
   "cell_type": "code",
   "execution_count": 1,
   "metadata": {},
   "outputs": [],
   "source": [
    "import numpy as np\n",
    "import torch"
   ]
  },
  {
   "cell_type": "code",
   "execution_count": 7,
   "metadata": {},
   "outputs": [
    {
     "name": "stdout",
     "output_type": "stream",
     "text": [
      "[-13.86392744  35.8625292    8.77935622 -54.83128302  25.31301683\n",
      " -28.00958441 -42.55939018 -30.24838962 -16.076012    13.53855538]\n",
      "[ -3.65441454  46.07204211  18.98886913 -44.62177012  35.52252973\n",
      " -17.80007151 -32.34987728 -20.03887671  -5.86649909  23.74806828]\n",
      "[ 16.20508503  76.8546084   -2.98388311 -18.98004945   3.86855874\n",
      " -91.71872862  28.02990455  33.48158761  65.05571671  14.78304136]\n",
      "[16.20508503 76.8546084   1.          1.          3.86855874  1.\n",
      " 28.02990455 33.48158761 65.05571671 14.78304136]\n",
      "[[16.20508503  0.          0.          0.          0.          0.\n",
      "   0.          0.          0.          0.        ]\n",
      " [ 0.         76.8546084   0.          0.          0.          0.\n",
      "   0.          0.          0.          0.        ]\n",
      " [ 0.          0.          1.          0.          0.          0.\n",
      "   0.          0.          0.          0.        ]\n",
      " [ 0.          0.          0.          1.          0.          0.\n",
      "   0.          0.          0.          0.        ]\n",
      " [ 0.          0.          0.          0.          3.86855874  0.\n",
      "   0.          0.          0.          0.        ]\n",
      " [ 0.          0.          0.          0.          0.          1.\n",
      "   0.          0.          0.          0.        ]\n",
      " [ 0.          0.          0.          0.          0.          0.\n",
      "  28.02990455  0.          0.          0.        ]\n",
      " [ 0.          0.          0.          0.          0.          0.\n",
      "   0.         33.48158761  0.          0.        ]\n",
      " [ 0.          0.          0.          0.          0.          0.\n",
      "   0.          0.         65.05571671  0.        ]\n",
      " [ 0.          0.          0.          0.          0.          0.\n",
      "   0.          0.          0.         14.78304136]]\n"
     ]
    }
   ],
   "source": [
    "s=5\n",
    "d=10\n",
    "n=10\n",
    "b = np.random.normal(0,s**2,n)\n",
    "print(b)\n",
    "b = b - np.mean(b)\n",
    "print(b)\n",
    "a = np.random.normal(1,s**2,n)\n",
    "print(a)\n",
    "a[a<1]=1\n",
    "print(a)\n",
    "A = np.diag(a)\n",
    "print(A)\n"
   ]
  }
 ],
 "metadata": {
  "interpreter": {
   "hash": "3780749f19b459cb58b325afa59e6225ffb88750ccbd9fbc4d002ba8573f20ce"
  },
  "kernelspec": {
   "display_name": "Python 3.7.7 ('pytorch')",
   "language": "python",
   "name": "python3"
  },
  "language_info": {
   "codemirror_mode": {
    "name": "ipython",
    "version": 3
   },
   "file_extension": ".py",
   "mimetype": "text/x-python",
   "name": "python",
   "nbconvert_exporter": "python",
   "pygments_lexer": "ipython3",
   "version": "3.7.7"
  },
  "orig_nbformat": 4
 },
 "nbformat": 4,
 "nbformat_minor": 2
}
